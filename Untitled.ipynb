{
 "cells": [
  {
   "cell_type": "code",
   "execution_count": 1,
   "metadata": {},
   "outputs": [],
   "source": [
    "# machine learning"
   ]
  },
  {
   "cell_type": "markdown",
   "metadata": {},
   "source": [
    "# Machine Learning\n",
    "## Macine Learning\n",
    "### Machine Learning\n",
    "###### Machine Learning\n",
    "- Introduction to Machine Learning\n",
    "    - what is machine learning\n",
    "    - types of machine Learning\n",
    "        - **supervised Learning**\n",
    "            - Classification\n",
    "                - KNN\n",
    "                - Decision Tree\n",
    "                - RandomForest\n",
    "                - Logistic Regression\n",
    "                - SVM\n",
    "            - Regression\n",
    "                - Linear\n",
    "                - Polynomial\n",
    "        - **unsupervised Learning**\n",
    "            - Clustering\n",
    "                - K-Means\n",
    "                - PCA\n",
    "- Hiii Welcome to Participate **Apssdc** ~Machine Learning Using Python~ Workshop\n",
    "\n",
    "<img src=\"https://image.shutterstock.com/image-vector/machine-learning-banner-web-icon-260nw-1110900704.jpg\" height=500px width = 500px>"
   ]
  },
  {
   "cell_type": "code",
   "execution_count": null,
   "metadata": {},
   "outputs": [],
   "source": [
    "\n",
    "\n",
    "\n"
   ]
  },
  {
   "cell_type": "code",
   "execution_count": null,
   "metadata": {},
   "outputs": [],
   "source": []
  }
 ],
 "metadata": {
  "kernelspec": {
   "display_name": "Python 3",
   "language": "python",
   "name": "python3"
  },
  "language_info": {
   "codemirror_mode": {
    "name": "ipython",
    "version": 3
   },
   "file_extension": ".py",
   "mimetype": "text/x-python",
   "name": "python",
   "nbconvert_exporter": "python",
   "pygments_lexer": "ipython3",
   "version": "3.8.3"
  }
 },
 "nbformat": 4,
 "nbformat_minor": 4
}
