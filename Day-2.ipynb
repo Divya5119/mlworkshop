{
 "cells": [
  {
   "cell_type": "code",
   "execution_count": null,
   "metadata": {},
   "outputs": [],
   "source": [
    "# Data Analysis \n",
    "# Three types of data\n",
    "# 1. Structured Data\n",
    "#   google sheets,xl sheets,csv,database\n",
    "# 2.Semi Structured Data\n",
    "    # html,xml,json\n",
    "# 3.Unstructure Data\n",
    "# videos,images\n",
    "\n",
    "\n",
    "# steps for data analysis\n",
    "# 1.Getting The data\n",
    "# 2.Analysing the data NUmpy\n",
    "# 3.Preprocessing the data in Pandas\n",
    "# 4.Applying Sklearn"
   ]
  }
 ],
 "metadata": {
  "kernelspec": {
   "display_name": "Python 3",
   "language": "python",
   "name": "python3"
  },
  "language_info": {
   "codemirror_mode": {
    "name": "ipython",
    "version": 3
   },
   "file_extension": ".py",
   "mimetype": "text/x-python",
   "name": "python",
   "nbconvert_exporter": "python",
   "pygments_lexer": "ipython3",
   "version": "3.8.3"
  }
 },
 "nbformat": 4,
 "nbformat_minor": 4
}
